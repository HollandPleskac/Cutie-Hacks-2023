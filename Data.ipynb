data_store = {
    "Grade_school": {
        "math": {},
        "English": {},
        "Physics" : {
            0: {"There is a little ball flying in the air that weights, m = 1kg, going at speed, v = 2, what will be the kinetic energy of the ball?": "q", "2": 'a'}
            1: {"There is a plate ontop of a 3foot tall table, if the plate weighs 1 pound, what is the potential energy of the plate?": "q", "30": 'a'}
            2: {"There is a lil toy rocket that weighs 2 pounds, and it is launching for the moon with an acceleration of, 100m/s^2. How much Force is being produced?": "q", "200": 'a'}
        }
    "Middle_school": {
        "math": {},
        "English": {},
        "Physics" : {
            0: {"There is a lion with speed 15m/s and it has a mass of 100kg, as it is chasing a zebra for its meal. What will be the kinetic energy of the lion at an certaint insant during its chase?": "q", "22500N": 'a'}
            1: {"There is an biplane gliding over at altitude, 250m, it is prepared to drop a bucket of water of mass, 100Kg on a small fire. What is the potential energy of the bucket full of water as it hits the ground?": "q", "245250N": 'a'}
            2: {"Suppose there is a boy applies a force, F = 60N, to his friend on a swing who has mass, m = 20Kg. If we know the force of the interaction then what is the tangental acceleration of the boy on the swing?": "q", "3m/s^2": 'a'}
        },
    "High_school": {
        "math": {},
        "English": {},
        "Physics" : {
            0: {"A Peregrine falcon spots a prey when its speed is, 10m/s, it locks in and begins to gain altitude for a dive. When it is ready it begins to dive and reaches a speed of 105m/s as it collides with its prey, if the mass is then 2Kg, what will be the Total Kinetic Energy of the Falcon at impact?": "q", "10925N": 'a'} 
            1: {"You launch a toy rocket from the top of a build, 56m, as you launch it you realize you forgot to take the angle so you wont be able to determine the distance anymore. In hopes of salving the experiment you remeber that you knew its mass and the height of the building youre at. If the rocket weighs, 20Kg, what would be its potential energy when it hits the ground": "q", "10987N": 'a'}
            2: {"There is a spring with force, F = 16N, released from equilibrium, that travels a distance x = 2m. What is the spring constant, K?": "q", "8N/m": 'a'}
        },
